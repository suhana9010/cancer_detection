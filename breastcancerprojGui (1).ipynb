{
 "cells": [
  {
   "cell_type": "code",
   "execution_count": 11,
   "metadata": {},
   "outputs": [],
   "source": [
    "import tkinter as tk\n",
    "from tkinter import filedialog\n",
    "from tkinter import *\n",
    "import numpy as np\n",
    "import sys\n",
    "import pandas as pd\n",
    "from tkinter.filedialog import askopenfile\n",
    "import csv"
   ]
  },
  {
   "cell_type": "code",
   "execution_count": 265,
   "metadata": {},
   "outputs": [],
   "source": [
    "import joblib\n",
    "\n",
    "model= joblib.load('random_forest.joblib')"
   ]
  },
  {
   "cell_type": "code",
   "execution_count": 476,
   "metadata": {},
   "outputs": [],
   "source": [
    "root =tk.Tk()\n",
    "canvas = tk.Canvas(root, width=600, height=350)\n",
    "canvas.grid(columnspan=3, rowspan=5)"
   ]
  },
  {
   "cell_type": "code",
   "execution_count": 477,
   "metadata": {},
   "outputs": [],
   "source": [
    "instructions = tk.Label(root, text=\"Upload any csv file\", font=(\"Comic Sans MS\",10))\n",
    "instructions.grid(column=1,row=2,sticky=tk.SW,padx=233)\n"
   ]
  },
  {
   "cell_type": "code",
   "execution_count": 478,
   "metadata": {},
   "outputs": [],
   "source": [
    "import seaborn as sns\n",
    "from sklearn.preprocessing import LabelEncoder\n",
    "from sklearn.preprocessing import StandardScaler\n",
    "def classify(file):\n",
    "    \n",
    "    d=pd.read_csv (file)\n",
    "    labelencoder_Y= LabelEncoder()\n",
    "    d.iloc[:,1] = labelencoder_Y.fit_transform(d.iloc[:,1].values)\n",
    "    d.iloc[:,1]\n",
    "    X=d.iloc[:,2:31].values\n",
    "    Y = d.iloc[:,1].values\n",
    "    X_test,Y_test=X,Y\n",
    "    sc= StandardScaler()\n",
    "    X_test =sc.fit_transform(X_test)\n",
    "    pred = model.predict(X_test)\n",
    "    print(pred)\n",
    "    \n",
    "    k=\"-ve\"\n",
    "    if pred==1:\n",
    "        k=\"+ve\"\n",
    "    Label(root,text=\"The uploaded details are resulted as cancer \",font=(\"Raleway\",12)).grid(row=1,column=0,pady=55,sticky=tk.NW,padx=143,columnspan=2)\n",
    "    Label(root,text=k,font=(\"Comic Sans MS\",14,\"italic\"),fg=\"#8D1B3D\").grid(row=1,column=1,sticky=tk.NE,pady=46,padx=113)\n",
    "    browse_text.set(\"Browse\")\n"
   ]
  },
  {
   "cell_type": "code",
   "execution_count": 479,
   "metadata": {},
   "outputs": [],
   "source": [
    "import io\n",
    "from tkscrolledframe import ScrolledFrame\n",
    "def open_file():\n",
    "    browse_text.set(\"Loading...\")\n",
    "    file=filedialog.askopenfilename()\n",
    "    print(file)\n",
    "    #reader= pd.read_csv (file)\n",
    "\n",
    "    if file:\n",
    "        browse_text.set(\"Uploaded\")\n",
    "        frame1 = tk.Frame(root, borderwidth=2, width=100, height=100)\n",
    "\n",
    "        frame1.grid(row=4,column=0,columnspan=3,sticky=tk.S)\n",
    "\n",
    "        # Create a ScrolledFrame widget\n",
    "        sf = ScrolledFrame(frame1, width=480, height=55,bg=\"#FFF\")\n",
    "        sf.grid(row=4)\n",
    "\n",
    "        l=[]\n",
    "        with open(file, newline = \"\") as file1:\n",
    "            reader = csv.reader(file1)\n",
    "            for i in reader:\n",
    "                l.append(i)\n",
    "                print(len(i))\n",
    "        print(l)\n",
    "        inner_frame = sf.display_widget(Frame)\n",
    "\n",
    "        for row in range(2):\n",
    "            for column in range(32):\n",
    "                w = Label(inner_frame,\n",
    "                          width=15,\n",
    "                          height=1,\n",
    "                          borderwidth=2,\n",
    "                          relief=\"groove\",\n",
    "                          anchor=\"center\",\n",
    "                          justify=\"center\",\n",
    "                          text=str(l[row][column]))\n",
    "\n",
    "                w.grid(row=row,\n",
    "                       column=column,\n",
    "                       padx=1,\n",
    "                       pady=1)\n",
    "        btn = tk.Button(root, text = 'Proceed', command =lambda:classify(file),font=(\"Raleway\",12),bg=\"#8D1B3D\", fg=\"white\", height=1, width=7)\n",
    "        btn.grid(row=5,column=1,padx=260,sticky=tk.N,pady=20)\n",
    "        browse_text.set(\"Browse\")\n",
    "        \n"
   ]
  },
  {
   "cell_type": "code",
   "execution_count": null,
   "metadata": {
    "scrolled": true
   },
   "outputs": [
    {
     "name": "stdout",
     "output_type": "stream",
     "text": [
      "C:/Users/DELL/Downloads/dataa new.csv\n",
      "32\n",
      "32\n",
      "[['id', 'diagnosis', 'radius_mean', 'texture_mean', 'perimeter_mean', 'area_mean', 'smoothness_mean', 'compactness_mean', 'concavity_mean', 'concave points_mean', 'symmetry_mean', 'fractal_dimension_mean', 'radius_se', 'texture_se', 'perimeter_se', 'area_se', 'smoothness_se', 'compactness_se', 'concavity_se', 'concave points_se', 'symmetry_se', 'fractal_dimension_se', 'radius_worst', 'texture_worst', 'perimeter_worst', 'area_worst', 'smoothness_worst', 'compactness_worst', 'concavity_worst', 'concave points_worst', 'symmetry_worst', 'fractal_dimension_worst'], ['842202', 'M', '17.99', '10.38', '122.8', '1001', '0.1184', '0.2776', '0.3001', '0.1471', '0.2419', '0.07871', '1.095', '0.9053', '8.589', '153.4', '0.006399', '0.04904', '0.05373', '0.01587', '0.03003', '0.006193', '25.38', '17.33', '184.6', '2019', '0.1622', '0.6656', '0.7119', '0.2654', '0.4601', '0.1189']]\n",
      "[0]\n"
     ]
    }
   ],
   "source": [
    "\n",
    "browse_text = tk.StringVar()\n",
    "\n",
    "browse_btn = tk.Button(root, textvariable=browse_text, command=lambda:open_file(), font=(\"Raleway\",12), bg=\"#8D1B3D\", fg=\"white\",height=1, width=15)\n",
    "browse_btn.grid(column=1, row=3, sticky=tk.NW,columnspan=2,padx=230)\n",
    "'''padx=90,'''\n",
    "\n",
    "browse_text.set(\"Browse\")\n",
    "btn1= tk.Button(root, text = 'Exit', command=root.destroy,font=(\"Raleway\",12,\"underline\"),fg=\"#8D1B3D\", height=1, width=5)\n",
    "btn1.grid(row=1,column=2,sticky=tk.NE,pady=50,padx=30)\n",
    "\n",
    "canvas = tk.Canvas(root, width=700, height=350)\n",
    "canvas.grid(columnspan=3)\n",
    "root.title(\"Breast cancer Detection\")\n",
    "root.mainloop()"
   ]
  },
  {
   "cell_type": "code",
   "execution_count": null,
   "metadata": {},
   "outputs": [],
   "source": []
  }
 ],
 "metadata": {
  "kernelspec": {
   "display_name": "Python 3",
   "language": "python",
   "name": "python3"
  },
  "language_info": {
   "codemirror_mode": {
    "name": "ipython",
    "version": 3
   },
   "file_extension": ".py",
   "mimetype": "text/x-python",
   "name": "python",
   "nbconvert_exporter": "python",
   "pygments_lexer": "ipython3",
   "version": "3.8.3"
  }
 },
 "nbformat": 4,
 "nbformat_minor": 4
}
