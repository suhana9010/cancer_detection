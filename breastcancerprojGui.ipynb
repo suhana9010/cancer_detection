{
 "cells": [
  {
   "cell_type": "code",
   "execution_count": 22,
   "metadata": {},
   "outputs": [],
   "source": [
    "import tkinter as tk\n",
    "from tkinter import filedialog\n",
    "from tkinter import *\n",
    "import numpy as np\n",
    "import sys\n",
    "import pandas as pd\n",
    "from tkinter.filedialog import askopenfile\n",
    "import csv"
   ]
  },
  {
   "cell_type": "code",
   "execution_count": 23,
   "metadata": {},
   "outputs": [],
   "source": [
    "import joblib\n",
    "\n",
    "model= joblib.load('random_forest.joblib')"
   ]
  },
  {
   "cell_type": "code",
   "execution_count": 24,
   "metadata": {},
   "outputs": [],
   "source": [
    "root =tk.Tk()\n",
    "canvas = tk.Canvas(root, width=600, height=250)\n",
    "canvas.grid(columnspan=3, rowspan=4)"
   ]
  },
  {
   "cell_type": "code",
   "execution_count": 25,
   "metadata": {},
   "outputs": [],
   "source": [
    "instructions = tk.Label(root, text=\"Upload any csv file\", font=(\"Comic Sans MS\",10))\n",
    "instructions.grid(column=1,row=2,sticky=tk.S,padx=20)\n"
   ]
  },
  {
   "cell_type": "code",
   "execution_count": 26,
   "metadata": {},
   "outputs": [],
   "source": [
    "import seaborn as sns\n",
    "from sklearn.preprocessing import LabelEncoder\n",
    "from sklearn.preprocessing import StandardScaler\n",
    "def classify(file):\n",
    "    \n",
    "    d=pd.read_csv (file)\n",
    "    labelencoder_Y= LabelEncoder()\n",
    "    d.iloc[:,1] = labelencoder_Y.fit_transform(d.iloc[:,1].values)\n",
    "    d.iloc[:,1]\n",
    "    X=d.iloc[:,2:31].values\n",
    "    Y = d.iloc[:,1].values\n",
    "    X_test,Y_test=X,Y\n",
    "    sc= StandardScaler()\n",
    "    X_test =sc.fit_transform(X_test)\n",
    "    pred = model.predict(X_test)\n",
    "    print(pred)\n",
    "    \n",
    "    k=\"-ve\"\n",
    "    if pred==1:\n",
    "        k=\"+ve\"\n",
    "    Label(root,text=\"The uploaded details are resulted as cancer \",font=(\"Raleway\",12)).grid(row=1,column=1,pady=55,sticky=tk.NE)\n",
    "    Label(root,text=k,font=(\"Comic Sans MS\",14,\"italic\"),fg=\"#8D1B3D\").grid(row=1,column=2,sticky=tk.NW,pady=47,)\n",
    "    browse_text.set(\"Browse\")\n"
   ]
  },
  {
   "cell_type": "code",
   "execution_count": 27,
   "metadata": {},
   "outputs": [],
   "source": [
    "def open_file():\n",
    "    browse_text.set(\"Loading...\")\n",
    "    file=filedialog.askopenfilename()\n",
    "    reader= pd.read_csv (file)\n",
    "    \n",
    "    if file:\n",
    "        browse_text.set(\"Uploaded\")\n",
    "        btn = tk.Button(root, text = 'Proceed', command =lambda:classify(file),font=(\"Raleway\",12),bg=\"#8D1B3D\", fg=\"white\", height=1, width=7)\n",
    "        btn.grid(row=4,column=1,pady=0,sticky=tk.N,padx=80)\n",
    "        \n",
    "        \n"
   ]
  },
  {
   "cell_type": "code",
   "execution_count": 28,
   "metadata": {
    "scrolled": false
   },
   "outputs": [
    {
     "name": "stdout",
     "output_type": "stream",
     "text": [
      "[0]\n"
     ]
    }
   ],
   "source": [
    "browse_text = tk.StringVar()\n",
    "\n",
    "\n",
    "browse_btn = tk.Button(root, textvariable=browse_text, command=lambda:open_file(), font=(\"Raleway\",12), bg=\"#8D1B3D\", fg=\"white\",height=1, width=15)\n",
    "browse_btn.grid(column=1, row=3,sticky=tk.N,padx=80)\n",
    "'''padx=90,'''\n",
    "\n",
    "browse_text.set(\"Browse\")\n",
    "btn1= tk.Button(root, text = 'Exit', command=root.destroy,font=(\"Raleway\",12,\"underline\"),fg=\"#8D1B3D\", height=1, width=5)\n",
    "btn1.grid(row=1,column=2,sticky=tk.NE,pady=50,padx=30)\n",
    "\n",
    "canvas = tk.Canvas(root, width=600, height=250)\n",
    "canvas.grid(columnspan=3)\n",
    "root.title(\"Breast cancer Detection\")\n",
    "root.mainloop()"
   ]
  },
  {
   "cell_type": "code",
   "execution_count": null,
   "metadata": {},
   "outputs": [],
   "source": []
  }
 ],
 "metadata": {
  "kernelspec": {
   "display_name": "Python 3",
   "language": "python",
   "name": "python3"
  },
  "language_info": {
   "codemirror_mode": {
    "name": "ipython",
    "version": 3
   },
   "file_extension": ".py",
   "mimetype": "text/x-python",
   "name": "python",
   "nbconvert_exporter": "python",
   "pygments_lexer": "ipython3",
   "version": "3.8.3"
  }
 },
 "nbformat": 4,
 "nbformat_minor": 4
}
